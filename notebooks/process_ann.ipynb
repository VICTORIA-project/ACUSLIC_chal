{
 "cells": [
  {
   "cell_type": "code",
   "execution_count": 1,
   "metadata": {},
   "outputs": [],
   "source": [
    "from pathlib import Path\n",
    "import pandas as pd\n",
    "import seaborn as sns\n",
    "import matplotlib.pyplot as plt\n",
    "import torch\n",
    "import SimpleITK as sitk\n",
    "import numpy as np\n",
    "\n",
    "\n",
    "this_path = Path().resolve()\n",
    "data_path = this_path.parent.parent / 'acouslic-ai-train-set'\n",
    "assert data_path.exists()"
   ]
  },
  {
   "cell_type": "code",
   "execution_count": 2,
   "metadata": {},
   "outputs": [
    {
     "name": "stdout",
     "output_type": "stream",
     "text": [
      "(840, 562, 744)\n"
     ]
    }
   ],
   "source": [
    "sample_image = '0d0a3298-a9c6-43c3-a9e3-df3a9c0afa06.mha'\n",
    "img_path = data_path / 'images/stacked_fetal_ultrasound/'\n",
    "mask_path = data_path / 'masks/stacked_fetal_abdomen/'\n",
    "im = sitk.ReadImage(str(img_path / sample_image))\n",
    "mask = sitk.ReadImage(str(mask_path / sample_image))\n",
    "im_array = sitk.GetArrayFromImage(im)\n",
    "print(im_array.shape)\n",
    "mask_array = sitk.GetArrayFromImage(mask)"
   ]
  },
  {
   "cell_type": "code",
   "execution_count": 3,
   "metadata": {},
   "outputs": [
    {
     "name": "stdout",
     "output_type": "stream",
     "text": [
      "840 670\n",
      "840 35\n"
     ]
    }
   ],
   "source": [
    "is_stack = np.any(im_array, axis=(1, 2))\n",
    "print(len(is_stack), sum(is_stack))\n",
    "contains_mask = np.any(mask_array, axis=(1, 2))\n",
    "print(len(contains_mask), sum(contains_mask))"
   ]
  },
  {
   "cell_type": "code",
   "execution_count": 9,
   "metadata": {},
   "outputs": [
    {
     "data": {
      "text/plain": [
       "array([  0,   1,   2,   3,   4,   5,   6,   7,   8,   9,  10,  11,  12,\n",
       "        13,  14,  15,  16,  17,  18,  19,  20,  21,  22,  23,  24,  25,\n",
       "        26,  27,  28,  29,  30,  31,  32,  33,  34,  35,  36,  37,  38,\n",
       "        39,  40,  41,  42,  43,  44,  45,  46,  47,  48,  49,  50,  51,\n",
       "        52,  53,  54,  55,  56,  57,  58,  59,  60,  61,  62,  63,  64,\n",
       "        65,  66,  67,  68,  69,  70,  71,  72,  73,  74,  75,  76,  77,\n",
       "        78,  79,  80,  81,  82,  83,  84,  85,  86,  87,  88,  89,  90,\n",
       "        91,  92,  93,  94,  95,  96,  97,  98,  99, 100, 101, 102, 103,\n",
       "       104, 105, 106, 107, 108, 109, 110, 111, 112, 113, 114, 140, 141,\n",
       "       142, 143, 144, 145, 146, 147, 148, 149, 150, 151, 152, 153, 154,\n",
       "       155, 156, 157, 158, 159, 160, 161, 162, 163, 164, 165, 166, 167,\n",
       "       168, 169, 170, 171, 172, 173, 174, 175, 176, 177, 178, 179, 180,\n",
       "       181, 182, 183, 184, 185, 186, 187, 188, 189, 190, 191, 192, 193,\n",
       "       194, 195, 196, 197, 198, 199, 200, 201, 202, 203, 204, 205, 206,\n",
       "       207, 208, 209, 210, 211, 212, 213, 214, 215, 216, 217, 218, 219,\n",
       "       220, 221, 222, 223, 224, 225, 226, 227, 228, 229, 230, 231, 232,\n",
       "       233, 234, 235, 236, 237, 238, 239, 240, 241, 242, 243, 280, 281,\n",
       "       282, 283, 284, 285, 286, 287, 288, 289, 290, 291, 292, 293, 294,\n",
       "       295, 296, 297, 298, 299, 300, 301, 302, 303, 304, 305, 306, 307,\n",
       "       308, 309, 310, 311, 312, 313, 314, 315, 316, 317, 318, 319, 320,\n",
       "       321, 322, 323, 324, 325, 326, 327, 328, 329, 330, 331, 332, 333,\n",
       "       334, 335, 336, 337, 338, 339, 340, 341, 342, 343, 344, 345, 346,\n",
       "       347, 348, 349, 350, 351, 352, 353, 354, 355, 356, 357, 358, 359,\n",
       "       360, 361, 362, 363, 364, 365, 366, 367, 368, 369, 370, 371, 372,\n",
       "       373, 374, 375, 376, 377, 378, 379, 380, 381, 382, 420, 421, 422,\n",
       "       423, 424, 425, 426, 427, 428, 429, 430, 431, 432, 433, 434, 435,\n",
       "       436, 437, 438, 439, 440, 441, 442, 443, 444, 445, 446, 447, 448,\n",
       "       449, 450, 451, 452, 453, 454, 455, 456, 457, 458, 459, 460, 461,\n",
       "       462, 463, 464, 465, 466, 467, 468, 469, 470, 471, 472, 473, 474,\n",
       "       475, 476, 477, 478, 479, 480, 481, 482, 483, 484, 485, 486, 487,\n",
       "       488, 489, 490, 491, 492, 493, 494, 495, 496, 497, 498, 499, 500,\n",
       "       501, 502, 503, 504, 505, 506, 507, 508, 509, 510, 511, 512, 513,\n",
       "       514, 515, 516, 517, 518, 519, 520, 521, 522, 523, 524, 525, 526,\n",
       "       527, 528, 560, 561, 562, 563, 564, 565, 566, 567, 568, 569, 570,\n",
       "       571, 572, 573, 574, 575, 576, 577, 578, 579, 580, 581, 582, 583,\n",
       "       584, 585, 586, 587, 588, 589, 590, 591, 592, 593, 594, 595, 596,\n",
       "       597, 598, 599, 600, 601, 602, 603, 604, 605, 606, 607, 608, 609,\n",
       "       610, 611, 612, 613, 614, 615, 616, 617, 618, 619, 620, 621, 622,\n",
       "       623, 624, 625, 626, 627, 628, 629, 630, 631, 632, 633, 634, 635,\n",
       "       636, 637, 638, 639, 640, 641, 642, 643, 644, 645, 646, 647, 648,\n",
       "       649, 650, 651, 652, 653, 654, 655, 656, 657, 658, 659, 660, 661,\n",
       "       662, 663, 664, 665, 666, 667, 668, 669, 670, 671, 672, 673, 674,\n",
       "       675, 676, 677, 678, 679, 680, 681, 682, 683, 684, 685, 686, 700,\n",
       "       701, 702, 703, 704, 705, 706, 707, 708, 709, 710, 711, 712, 713,\n",
       "       714, 715, 716, 717, 718, 719, 720, 721, 722, 723, 724, 725, 726,\n",
       "       727, 728, 729, 730, 731, 732, 733, 734, 735, 736, 737, 738, 739,\n",
       "       740, 741, 742, 743, 744, 745, 746, 747, 748, 749, 750, 751, 752,\n",
       "       753, 754, 755, 756, 757, 758, 759, 760, 761, 762, 763, 764, 765,\n",
       "       766, 767, 768, 769, 770, 771, 772, 773, 774, 775, 776, 777, 778,\n",
       "       779, 780, 781, 782, 783, 784, 785, 786, 787, 788, 789, 790, 791,\n",
       "       792, 793, 794, 795, 796, 797, 798, 799, 800, 801, 802, 803, 804,\n",
       "       805, 806, 807, 808, 809, 810, 811])"
      ]
     },
     "execution_count": 9,
     "metadata": {},
     "output_type": "execute_result"
    }
   ],
   "source": [
    "np.where(is_stack)[0]"
   ]
  },
  {
   "cell_type": "code",
   "execution_count": 15,
   "metadata": {},
   "outputs": [
    {
     "data": {
      "text/plain": [
       "(False, True, True)"
      ]
     },
     "execution_count": 15,
     "metadata": {},
     "output_type": "execute_result"
    }
   ],
   "source": [
    "im_array[128].any(), im_array[59].any(), im_array[0].any()"
   ]
  },
  {
   "cell_type": "code",
   "execution_count": 29,
   "metadata": {},
   "outputs": [
    {
     "data": {
      "text/plain": [
       "(418128,)"
      ]
     },
     "execution_count": 29,
     "metadata": {},
     "output_type": "execute_result"
    }
   ],
   "source": [
    "np.any(im_array.reshape(840, -1), axis=0).shape"
   ]
  },
  {
   "cell_type": "code",
   "execution_count": null,
   "metadata": {},
   "outputs": [],
   "source": [
    "w, h = im_array.size\n",
    "x = 0\n",
    "y = 0\n",
    "width = 10\n",
    "height = 10\n",
    "boxes = [x, y, width, height]#[obj[\"bbox\"] for obj in anno]\n",
    "# guard against no boxes via resizing\n",
    "boxes = torch.as_tensor(boxes, dtype=torch.float32).reshape(-1, 4)\n",
    "boxes[:, 2:] += boxes[:, :2]\n",
    "boxes[:, 0::2].clamp_(min=0, max=w)\n",
    "boxes[:, 1::2].clamp_(min=0, max=h)"
   ]
  }
 ],
 "metadata": {
  "kernelspec": {
   "display_name": "base",
   "language": "python",
   "name": "python3"
  },
  "language_info": {
   "codemirror_mode": {
    "name": "ipython",
    "version": 3
   },
   "file_extension": ".py",
   "mimetype": "text/x-python",
   "name": "python",
   "nbconvert_exporter": "python",
   "pygments_lexer": "ipython3",
   "version": "3.10.14"
  }
 },
 "nbformat": 4,
 "nbformat_minor": 2
}
