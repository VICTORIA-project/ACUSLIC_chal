{
 "cells": [
  {
   "cell_type": "code",
   "execution_count": 1,
   "metadata": {},
   "outputs": [],
   "source": [
    "import torch\n",
    "import torch.nn as nn\n",
    "from pathlib import Path\n",
    "import pandas as pd\n",
    "import seaborn as sns\n",
    "import matplotlib.pyplot as plt\n",
    "from src.models.fuvai import YNet\n",
    "import numpy as np\n",
    "\n",
    "this_path = Path().resolve()\n",
    "data_path = this_path.parent.parent / 'acouslic-ai-train-set'"
   ]
  },
  {
   "cell_type": "code",
   "execution_count": 9,
   "metadata": {},
   "outputs": [
    {
     "data": {
      "text/plain": [
       "array([0, 1, 2])"
      ]
     },
     "execution_count": 9,
     "metadata": {},
     "output_type": "execute_result"
    }
   ],
   "source": [
    "new_md = Path('/home/alejandro/repos/ACUSLIC_chal/data/preprocessed/full-slice_256x256_only-sweeps/metadata.csv')\n",
    "new_md = pd.read_csv(new_md)\n",
    "new_md.plane_type.unique()"
   ]
  },
  {
   "cell_type": "code",
   "execution_count": 2,
   "metadata": {},
   "outputs": [],
   "source": [
    "from src.models.fuvai import YNet\n",
    "\n",
    "class YNetEncoder(nn.Module):\n",
    "    def __init__(self, pretrained_model):\n",
    "        super(YNetEncoder, self).__init__()\n",
    "        \n",
    "        self.down_conv1 = pretrained_model.down_conv1\n",
    "        self.down_conv2 = pretrained_model.down_conv2\n",
    "        self.down_conv3 = pretrained_model.down_conv3\n",
    "        self.down_conv4 = pretrained_model.down_conv4\n",
    "        self.max_pool_2x2 = pretrained_model.max_pool_2x2\n",
    "        self.avgpool = torch.nn.AdaptiveAvgPool2d((1, 1))\n",
    "        \n",
    "    def forward(self, x):\n",
    "        # Encoder part\n",
    "        x = torch.unbind(x, dim=1)\n",
    "        data = []\n",
    "        for item in x:\n",
    "            x1 = self.down_conv1(item)  \n",
    "            x2 = self.down_conv2(self.max_pool_2x2(x1))  \n",
    "            x3 = self.down_conv3(self.max_pool_2x2(x2))  \n",
    "            x4 = self.down_conv4(self.max_pool_2x2(x3))  \n",
    "            features = self.max_pool_2x2(x4)  \n",
    "            data.append(features.unsqueeze(0))\n",
    "        data = torch.cat(data, dim=0)\n",
    "        print(data.shape)\n",
    "        data = self.avgpool(data)\n",
    "        print(data.shape)\n",
    "\n",
    "        return torch.flatten(data, -3)"
   ]
  },
  {
   "cell_type": "code",
   "execution_count": 3,
   "metadata": {},
   "outputs": [],
   "source": [
    "ckpt_path = data_path / 'fuvai_weights.pt'\n",
    "model = YNet(1, 64, 1)\n",
    "ckpt = torch.load(ckpt_path)\n",
    "model.load_state_dict(ckpt)\n",
    "\n",
    "encoder = YNetEncoder(pretrained_model=model)\n",
    "device = torch.device('cuda:0' if torch.cuda.is_available() else 'cpu')\n",
    "encoder = encoder.to(device)\n",
    "encoder.eval()\n",
    "input = torch.randn(10, 1, 1, 256, 256).to(device)"
   ]
  },
  {
   "cell_type": "code",
   "execution_count": 4,
   "metadata": {},
   "outputs": [
    {
     "name": "stdout",
     "output_type": "stream",
     "text": [
      "torch.Size([1, 10, 512, 16, 16])\n",
      "torch.Size([1, 10, 512, 1, 1])\n",
      "torch.Size([1, 10, 512])\n"
     ]
    }
   ],
   "source": [
    "with torch.no_grad():\n",
    "    output = encoder(input)\n",
    "    print(output.shape)"
   ]
  },
  {
   "cell_type": "code",
   "execution_count": 7,
   "metadata": {},
   "outputs": [
    {
     "data": {
      "text/plain": [
       "torch.Size([512, 512, 3, 3])"
      ]
     },
     "execution_count": 7,
     "metadata": {},
     "output_type": "execute_result"
    }
   ],
   "source": [
    "encoder.down_conv4[3].weight.shape"
   ]
  },
  {
   "cell_type": "code",
   "execution_count": 58,
   "metadata": {},
   "outputs": [
    {
     "data": {
      "text/plain": [
       "torch.Size([10, 512])"
      ]
     },
     "execution_count": 58,
     "metadata": {},
     "output_type": "execute_result"
    }
   ],
   "source": [
    "output.squeeze().shape"
   ]
  },
  {
   "cell_type": "markdown",
   "metadata": {},
   "source": [
    "### Dev"
   ]
  },
  {
   "cell_type": "code",
   "execution_count": 3,
   "metadata": {},
   "outputs": [
    {
     "data": {
      "text/plain": [
       "Conv2d(1, 64, kernel_size=(3, 3), stride=(1, 1), padding=(1, 1))"
      ]
     },
     "execution_count": 3,
     "metadata": {},
     "output_type": "execute_result"
    }
   ],
   "source": [
    "encoder = YNetEncoder(1, 64, 1)\n",
    "encoder.down_conv1[0] # copying a param with shape torch.Size([64, 1, 3, 3]) from checkpoint"
   ]
  },
  {
   "cell_type": "code",
   "execution_count": 21,
   "metadata": {},
   "outputs": [
    {
     "name": "stdout",
     "output_type": "stream",
     "text": [
      "torch.Size([1, 5120])\n"
     ]
    },
    {
     "ename": "ValueError",
     "evalue": "Input dimension should be at least 3",
     "output_type": "error",
     "traceback": [
      "\u001b[0;31m---------------------------------------------------------------------------\u001b[0m",
      "\u001b[0;31mValueError\u001b[0m                                Traceback (most recent call last)",
      "Cell \u001b[0;32mIn[21], line 9\u001b[0m\n\u001b[1;32m      7\u001b[0m output \u001b[38;5;241m=\u001b[39m encoder(\u001b[38;5;28minput\u001b[39m)\n\u001b[1;32m      8\u001b[0m \u001b[38;5;28mprint\u001b[39m(output\u001b[38;5;241m.\u001b[39mshape)\n\u001b[0;32m----> 9\u001b[0m output \u001b[38;5;241m=\u001b[39m \u001b[43mavgpool\u001b[49m\u001b[43m(\u001b[49m\u001b[43moutput\u001b[49m\u001b[43m)\u001b[49m\n\u001b[1;32m     10\u001b[0m \u001b[38;5;28mprint\u001b[39m(output\u001b[38;5;241m.\u001b[39mshape)\n\u001b[1;32m     11\u001b[0m output \u001b[38;5;241m=\u001b[39m torch\u001b[38;5;241m.\u001b[39mflatten(output, \u001b[38;5;241m1\u001b[39m)\n",
      "File \u001b[0;32m~/anaconda3/envs/acouslic/lib/python3.10/site-packages/torch/nn/modules/module.py:1511\u001b[0m, in \u001b[0;36mModule._wrapped_call_impl\u001b[0;34m(self, *args, **kwargs)\u001b[0m\n\u001b[1;32m   1509\u001b[0m     \u001b[38;5;28;01mreturn\u001b[39;00m \u001b[38;5;28mself\u001b[39m\u001b[38;5;241m.\u001b[39m_compiled_call_impl(\u001b[38;5;241m*\u001b[39margs, \u001b[38;5;241m*\u001b[39m\u001b[38;5;241m*\u001b[39mkwargs)  \u001b[38;5;66;03m# type: ignore[misc]\u001b[39;00m\n\u001b[1;32m   1510\u001b[0m \u001b[38;5;28;01melse\u001b[39;00m:\n\u001b[0;32m-> 1511\u001b[0m     \u001b[38;5;28;01mreturn\u001b[39;00m \u001b[38;5;28;43mself\u001b[39;49m\u001b[38;5;241;43m.\u001b[39;49m\u001b[43m_call_impl\u001b[49m\u001b[43m(\u001b[49m\u001b[38;5;241;43m*\u001b[39;49m\u001b[43margs\u001b[49m\u001b[43m,\u001b[49m\u001b[43m \u001b[49m\u001b[38;5;241;43m*\u001b[39;49m\u001b[38;5;241;43m*\u001b[39;49m\u001b[43mkwargs\u001b[49m\u001b[43m)\u001b[49m\n",
      "File \u001b[0;32m~/anaconda3/envs/acouslic/lib/python3.10/site-packages/torch/nn/modules/module.py:1520\u001b[0m, in \u001b[0;36mModule._call_impl\u001b[0;34m(self, *args, **kwargs)\u001b[0m\n\u001b[1;32m   1515\u001b[0m \u001b[38;5;66;03m# If we don't have any hooks, we want to skip the rest of the logic in\u001b[39;00m\n\u001b[1;32m   1516\u001b[0m \u001b[38;5;66;03m# this function, and just call forward.\u001b[39;00m\n\u001b[1;32m   1517\u001b[0m \u001b[38;5;28;01mif\u001b[39;00m \u001b[38;5;129;01mnot\u001b[39;00m (\u001b[38;5;28mself\u001b[39m\u001b[38;5;241m.\u001b[39m_backward_hooks \u001b[38;5;129;01mor\u001b[39;00m \u001b[38;5;28mself\u001b[39m\u001b[38;5;241m.\u001b[39m_backward_pre_hooks \u001b[38;5;129;01mor\u001b[39;00m \u001b[38;5;28mself\u001b[39m\u001b[38;5;241m.\u001b[39m_forward_hooks \u001b[38;5;129;01mor\u001b[39;00m \u001b[38;5;28mself\u001b[39m\u001b[38;5;241m.\u001b[39m_forward_pre_hooks\n\u001b[1;32m   1518\u001b[0m         \u001b[38;5;129;01mor\u001b[39;00m _global_backward_pre_hooks \u001b[38;5;129;01mor\u001b[39;00m _global_backward_hooks\n\u001b[1;32m   1519\u001b[0m         \u001b[38;5;129;01mor\u001b[39;00m _global_forward_hooks \u001b[38;5;129;01mor\u001b[39;00m _global_forward_pre_hooks):\n\u001b[0;32m-> 1520\u001b[0m     \u001b[38;5;28;01mreturn\u001b[39;00m \u001b[43mforward_call\u001b[49m\u001b[43m(\u001b[49m\u001b[38;5;241;43m*\u001b[39;49m\u001b[43margs\u001b[49m\u001b[43m,\u001b[49m\u001b[43m \u001b[49m\u001b[38;5;241;43m*\u001b[39;49m\u001b[38;5;241;43m*\u001b[39;49m\u001b[43mkwargs\u001b[49m\u001b[43m)\u001b[49m\n\u001b[1;32m   1522\u001b[0m \u001b[38;5;28;01mtry\u001b[39;00m:\n\u001b[1;32m   1523\u001b[0m     result \u001b[38;5;241m=\u001b[39m \u001b[38;5;28;01mNone\u001b[39;00m\n",
      "File \u001b[0;32m~/anaconda3/envs/acouslic/lib/python3.10/site-packages/torch/nn/modules/pooling.py:1190\u001b[0m, in \u001b[0;36mAdaptiveAvgPool2d.forward\u001b[0;34m(self, input)\u001b[0m\n\u001b[1;32m   1189\u001b[0m \u001b[38;5;28;01mdef\u001b[39;00m \u001b[38;5;21mforward\u001b[39m(\u001b[38;5;28mself\u001b[39m, \u001b[38;5;28minput\u001b[39m: Tensor) \u001b[38;5;241m-\u001b[39m\u001b[38;5;241m>\u001b[39m Tensor:\n\u001b[0;32m-> 1190\u001b[0m     \u001b[38;5;28;01mreturn\u001b[39;00m \u001b[43mF\u001b[49m\u001b[38;5;241;43m.\u001b[39;49m\u001b[43madaptive_avg_pool2d\u001b[49m\u001b[43m(\u001b[49m\u001b[38;5;28;43minput\u001b[39;49m\u001b[43m,\u001b[49m\u001b[43m \u001b[49m\u001b[38;5;28;43mself\u001b[39;49m\u001b[38;5;241;43m.\u001b[39;49m\u001b[43moutput_size\u001b[49m\u001b[43m)\u001b[49m\n",
      "File \u001b[0;32m~/anaconda3/envs/acouslic/lib/python3.10/site-packages/torch/nn/functional.py:1232\u001b[0m, in \u001b[0;36madaptive_avg_pool2d\u001b[0;34m(input, output_size)\u001b[0m\n\u001b[1;32m   1230\u001b[0m \u001b[38;5;28;01mif\u001b[39;00m has_torch_function_unary(\u001b[38;5;28minput\u001b[39m):\n\u001b[1;32m   1231\u001b[0m     \u001b[38;5;28;01mreturn\u001b[39;00m handle_torch_function(adaptive_avg_pool2d, (\u001b[38;5;28minput\u001b[39m,), \u001b[38;5;28minput\u001b[39m, output_size)\n\u001b[0;32m-> 1232\u001b[0m _output_size \u001b[38;5;241m=\u001b[39m \u001b[43m_list_with_default\u001b[49m\u001b[43m(\u001b[49m\u001b[43moutput_size\u001b[49m\u001b[43m,\u001b[49m\u001b[43m \u001b[49m\u001b[38;5;28;43minput\u001b[39;49m\u001b[38;5;241;43m.\u001b[39;49m\u001b[43msize\u001b[49m\u001b[43m(\u001b[49m\u001b[43m)\u001b[49m\u001b[43m)\u001b[49m\n\u001b[1;32m   1233\u001b[0m \u001b[38;5;28;01mreturn\u001b[39;00m torch\u001b[38;5;241m.\u001b[39m_C\u001b[38;5;241m.\u001b[39m_nn\u001b[38;5;241m.\u001b[39madaptive_avg_pool2d(\u001b[38;5;28minput\u001b[39m, _output_size)\n",
      "File \u001b[0;32m~/anaconda3/envs/acouslic/lib/python3.10/site-packages/torch/nn/modules/utils.py:38\u001b[0m, in \u001b[0;36m_list_with_default\u001b[0;34m(out_size, defaults)\u001b[0m\n\u001b[1;32m     36\u001b[0m     \u001b[38;5;28;01mreturn\u001b[39;00m out_size\n\u001b[1;32m     37\u001b[0m \u001b[38;5;28;01mif\u001b[39;00m \u001b[38;5;28mlen\u001b[39m(defaults) \u001b[38;5;241m<\u001b[39m\u001b[38;5;241m=\u001b[39m \u001b[38;5;28mlen\u001b[39m(out_size):\n\u001b[0;32m---> 38\u001b[0m     \u001b[38;5;28;01mraise\u001b[39;00m \u001b[38;5;167;01mValueError\u001b[39;00m(\n\u001b[1;32m     39\u001b[0m         \u001b[38;5;124mf\u001b[39m\u001b[38;5;124m\"\u001b[39m\u001b[38;5;124mInput dimension should be at least \u001b[39m\u001b[38;5;132;01m{\u001b[39;00m\u001b[38;5;28mlen\u001b[39m(out_size)\u001b[38;5;250m \u001b[39m\u001b[38;5;241m+\u001b[39m\u001b[38;5;250m \u001b[39m\u001b[38;5;241m1\u001b[39m\u001b[38;5;132;01m}\u001b[39;00m\u001b[38;5;124m\"\u001b[39m\n\u001b[1;32m     40\u001b[0m     )\n\u001b[1;32m     41\u001b[0m \u001b[38;5;28;01mreturn\u001b[39;00m [\n\u001b[1;32m     42\u001b[0m     v \u001b[38;5;28;01mif\u001b[39;00m v \u001b[38;5;129;01mis\u001b[39;00m \u001b[38;5;129;01mnot\u001b[39;00m \u001b[38;5;28;01mNone\u001b[39;00m \u001b[38;5;28;01melse\u001b[39;00m d \u001b[38;5;28;01mfor\u001b[39;00m v, d \u001b[38;5;129;01min\u001b[39;00m \u001b[38;5;28mzip\u001b[39m(out_size, defaults[\u001b[38;5;241m-\u001b[39m\u001b[38;5;28mlen\u001b[39m(out_size) :])\n\u001b[1;32m     43\u001b[0m ]\n",
      "\u001b[0;31mValueError\u001b[0m: Input dimension should be at least 3"
     ]
    }
   ],
   "source": [
    "# device = torch.device('cuda:0' if torch.cuda.is_available() else 'cpu')\n",
    "# encoder.to(device)\n",
    "avgpool = torch.nn.AdaptiveAvgPool2d((1, 1))\n",
    "avgpool.to(device)\n",
    "encoder.eval()\n",
    "input = torch.randn(10, 1, 1, 256, 256).to(device) # 224 1, 25, 1, 256, 256\n",
    "output = encoder(input)\n",
    "print(output.shape)\n",
    "output = avgpool(output)\n",
    "print(output.shape)\n",
    "output = torch.flatten(output, 1)\n",
    "print(output.shape)"
   ]
  },
  {
   "cell_type": "code",
   "execution_count": 5,
   "metadata": {},
   "outputs": [
    {
     "data": {
      "text/plain": [
       "tensor([[0.0083, 0.0033, 0.0023,  ..., 0.0102, 0.0146, 0.0041],\n",
       "        [0.0082, 0.0032, 0.0023,  ..., 0.0102, 0.0146, 0.0041],\n",
       "        [0.0083, 0.0032, 0.0022,  ..., 0.0103, 0.0146, 0.0041],\n",
       "        ...,\n",
       "        [0.0082, 0.0032, 0.0022,  ..., 0.0103, 0.0147, 0.0041],\n",
       "        [0.0083, 0.0033, 0.0023,  ..., 0.0103, 0.0146, 0.0041],\n",
       "        [0.0083, 0.0033, 0.0023,  ..., 0.0102, 0.0146, 0.0041]],\n",
       "       device='cuda:0', grad_fn=<ViewBackward0>)"
      ]
     },
     "execution_count": 5,
     "metadata": {},
     "output_type": "execute_result"
    }
   ],
   "source": [
    "output"
   ]
  },
  {
   "cell_type": "code",
   "execution_count": 6,
   "metadata": {},
   "outputs": [
    {
     "name": "stdout",
     "output_type": "stream",
     "text": [
      "2 torch.Size([10, 1, 224, 224])\n",
      "torch.Size([10, 64, 224, 224])\n"
     ]
    }
   ],
   "source": [
    "x = torch.unbind(input, dim=1)\n",
    "print(len(x), x[0].shape)\n",
    "x = encoder.down_conv1(x[0])\n",
    "print(x.shape)"
   ]
  },
  {
   "cell_type": "code",
   "execution_count": 3,
   "metadata": {},
   "outputs": [
    {
     "name": "stdout",
     "output_type": "stream",
     "text": [
      "down_conv1.0.weight\n",
      "down_conv1.0.bias\n",
      "down_conv1.1.weight\n",
      "down_conv1.1.bias\n",
      "down_conv1.1.running_mean\n",
      "down_conv1.1.running_var\n",
      "down_conv1.1.num_batches_tracked\n",
      "down_conv1.3.weight\n",
      "down_conv1.3.bias\n",
      "down_conv1.4.weight\n",
      "down_conv1.4.bias\n",
      "down_conv1.4.running_mean\n",
      "down_conv1.4.running_var\n",
      "down_conv1.4.num_batches_tracked\n",
      "down_conv2.0.weight\n",
      "down_conv2.0.bias\n",
      "down_conv2.1.weight\n",
      "down_conv2.1.bias\n",
      "down_conv2.1.running_mean\n",
      "down_conv2.1.running_var\n",
      "down_conv2.1.num_batches_tracked\n",
      "down_conv2.3.weight\n",
      "down_conv2.3.bias\n",
      "down_conv2.4.weight\n",
      "down_conv2.4.bias\n",
      "down_conv2.4.running_mean\n",
      "down_conv2.4.running_var\n",
      "down_conv2.4.num_batches_tracked\n",
      "down_conv3.0.weight\n",
      "down_conv3.0.bias\n",
      "down_conv3.1.weight\n",
      "down_conv3.1.bias\n",
      "down_conv3.1.running_mean\n",
      "down_conv3.1.running_var\n",
      "down_conv3.1.num_batches_tracked\n",
      "down_conv3.3.weight\n",
      "down_conv3.3.bias\n",
      "down_conv3.4.weight\n",
      "down_conv3.4.bias\n",
      "down_conv3.4.running_mean\n",
      "down_conv3.4.running_var\n",
      "down_conv3.4.num_batches_tracked\n",
      "down_conv4.0.weight\n",
      "down_conv4.0.bias\n",
      "down_conv4.1.weight\n",
      "down_conv4.1.bias\n",
      "down_conv4.1.running_mean\n",
      "down_conv4.1.running_var\n",
      "down_conv4.1.num_batches_tracked\n",
      "down_conv4.3.weight\n",
      "down_conv4.3.bias\n",
      "down_conv4.4.weight\n",
      "down_conv4.4.bias\n",
      "down_conv4.4.running_mean\n",
      "down_conv4.4.running_var\n",
      "down_conv4.4.num_batches_tracked\n",
      "classifier.1.weight\n",
      "classifier.1.bias\n",
      "bootleneck.0.weight\n",
      "bootleneck.0.bias\n",
      "bootleneck.1.weight\n",
      "bootleneck.1.bias\n",
      "bootleneck.1.running_mean\n",
      "bootleneck.1.running_var\n",
      "bootleneck.1.num_batches_tracked\n",
      "bootleneck.3.weight\n",
      "bootleneck.3.bias\n",
      "bootleneck.4.weight\n",
      "bootleneck.4.bias\n",
      "bootleneck.4.running_mean\n",
      "bootleneck.4.running_var\n",
      "bootleneck.4.num_batches_tracked\n",
      "up_transpose4.weight\n",
      "up_transpose4.bias\n",
      "Att4.W_g.0.weight\n",
      "Att4.W_g.0.bias\n",
      "Att4.W_g.1.weight\n",
      "Att4.W_g.1.bias\n",
      "Att4.W_g.1.running_mean\n",
      "Att4.W_g.1.running_var\n",
      "Att4.W_g.1.num_batches_tracked\n",
      "Att4.W_x.0.weight\n",
      "Att4.W_x.0.bias\n",
      "Att4.W_x.1.weight\n",
      "Att4.W_x.1.bias\n",
      "Att4.W_x.1.running_mean\n",
      "Att4.W_x.1.running_var\n",
      "Att4.W_x.1.num_batches_tracked\n",
      "Att4.psi.0.weight\n",
      "Att4.psi.0.bias\n",
      "Att4.psi.1.weight\n",
      "Att4.psi.1.bias\n",
      "Att4.psi.1.running_mean\n",
      "Att4.psi.1.running_var\n",
      "Att4.psi.1.num_batches_tracked\n",
      "up_conv4.0.weight\n",
      "up_conv4.0.bias\n",
      "up_conv4.1.weight\n",
      "up_conv4.1.bias\n",
      "up_conv4.1.running_mean\n",
      "up_conv4.1.running_var\n",
      "up_conv4.1.num_batches_tracked\n",
      "up_conv4.3.weight\n",
      "up_conv4.3.bias\n",
      "up_conv4.4.weight\n",
      "up_conv4.4.bias\n",
      "up_conv4.4.running_mean\n",
      "up_conv4.4.running_var\n",
      "up_conv4.4.num_batches_tracked\n",
      "up_transpose3.weight\n",
      "up_transpose3.bias\n",
      "Att3.W_g.0.weight\n",
      "Att3.W_g.0.bias\n",
      "Att3.W_g.1.weight\n",
      "Att3.W_g.1.bias\n",
      "Att3.W_g.1.running_mean\n",
      "Att3.W_g.1.running_var\n",
      "Att3.W_g.1.num_batches_tracked\n",
      "Att3.W_x.0.weight\n",
      "Att3.W_x.0.bias\n",
      "Att3.W_x.1.weight\n",
      "Att3.W_x.1.bias\n",
      "Att3.W_x.1.running_mean\n",
      "Att3.W_x.1.running_var\n",
      "Att3.W_x.1.num_batches_tracked\n",
      "Att3.psi.0.weight\n",
      "Att3.psi.0.bias\n",
      "Att3.psi.1.weight\n",
      "Att3.psi.1.bias\n",
      "Att3.psi.1.running_mean\n",
      "Att3.psi.1.running_var\n",
      "Att3.psi.1.num_batches_tracked\n",
      "up_conv3.0.weight\n",
      "up_conv3.0.bias\n",
      "up_conv3.1.weight\n",
      "up_conv3.1.bias\n",
      "up_conv3.1.running_mean\n",
      "up_conv3.1.running_var\n",
      "up_conv3.1.num_batches_tracked\n",
      "up_conv3.3.weight\n",
      "up_conv3.3.bias\n",
      "up_conv3.4.weight\n",
      "up_conv3.4.bias\n",
      "up_conv3.4.running_mean\n",
      "up_conv3.4.running_var\n",
      "up_conv3.4.num_batches_tracked\n",
      "up_transpose2.weight\n",
      "up_transpose2.bias\n",
      "Att2.W_g.0.weight\n",
      "Att2.W_g.0.bias\n",
      "Att2.W_g.1.weight\n",
      "Att2.W_g.1.bias\n",
      "Att2.W_g.1.running_mean\n",
      "Att2.W_g.1.running_var\n",
      "Att2.W_g.1.num_batches_tracked\n",
      "Att2.W_x.0.weight\n",
      "Att2.W_x.0.bias\n",
      "Att2.W_x.1.weight\n",
      "Att2.W_x.1.bias\n",
      "Att2.W_x.1.running_mean\n",
      "Att2.W_x.1.running_var\n",
      "Att2.W_x.1.num_batches_tracked\n",
      "Att2.psi.0.weight\n",
      "Att2.psi.0.bias\n",
      "Att2.psi.1.weight\n",
      "Att2.psi.1.bias\n",
      "Att2.psi.1.running_mean\n",
      "Att2.psi.1.running_var\n",
      "Att2.psi.1.num_batches_tracked\n",
      "up_conv2.0.weight\n",
      "up_conv2.0.bias\n",
      "up_conv2.1.weight\n",
      "up_conv2.1.bias\n",
      "up_conv2.1.running_mean\n",
      "up_conv2.1.running_var\n",
      "up_conv2.1.num_batches_tracked\n",
      "up_conv2.3.weight\n",
      "up_conv2.3.bias\n",
      "up_conv2.4.weight\n",
      "up_conv2.4.bias\n",
      "up_conv2.4.running_mean\n",
      "up_conv2.4.running_var\n",
      "up_conv2.4.num_batches_tracked\n",
      "up_transpose1.weight\n",
      "up_transpose1.bias\n",
      "Att1.W_g.0.weight\n",
      "Att1.W_g.0.bias\n",
      "Att1.W_g.1.weight\n",
      "Att1.W_g.1.bias\n",
      "Att1.W_g.1.running_mean\n",
      "Att1.W_g.1.running_var\n",
      "Att1.W_g.1.num_batches_tracked\n",
      "Att1.W_x.0.weight\n",
      "Att1.W_x.0.bias\n",
      "Att1.W_x.1.weight\n",
      "Att1.W_x.1.bias\n",
      "Att1.W_x.1.running_mean\n",
      "Att1.W_x.1.running_var\n",
      "Att1.W_x.1.num_batches_tracked\n",
      "Att1.psi.0.weight\n",
      "Att1.psi.0.bias\n",
      "Att1.psi.1.weight\n",
      "Att1.psi.1.bias\n",
      "Att1.psi.1.running_mean\n",
      "Att1.psi.1.running_var\n",
      "Att1.psi.1.num_batches_tracked\n",
      "up_conv1.0.weight\n",
      "up_conv1.0.bias\n",
      "up_conv1.1.weight\n",
      "up_conv1.1.bias\n",
      "up_conv1.1.running_mean\n",
      "up_conv1.1.running_var\n",
      "up_conv1.1.num_batches_tracked\n",
      "up_conv1.3.weight\n",
      "up_conv1.3.bias\n",
      "up_conv1.4.weight\n",
      "up_conv1.4.bias\n",
      "up_conv1.4.running_mean\n",
      "up_conv1.4.running_var\n",
      "up_conv1.4.num_batches_tracked\n",
      "out_layer.weight\n",
      "out_layer.bias\n",
      "conv_lstm.cell_list.0.conv.weight\n",
      "conv_lstm.cell_list.0.conv.bias\n",
      "conv_lstm.cell_list.1.conv.weight\n",
      "conv_lstm.cell_list.1.conv.bias\n",
      "side1.weight\n",
      "side1.bias\n",
      "side2.weight\n",
      "side2.bias\n",
      "side3.weight\n",
      "side3.bias\n",
      "side4.weight\n",
      "side4.bias\n"
     ]
    }
   ],
   "source": [
    "ckpt_path = data_path / 'fuvai_weights.pt'\n",
    "ckpt = torch.load(ckpt_path)\n",
    "for k, v in ckpt.items():\n",
    "    print(k)"
   ]
  },
  {
   "cell_type": "code",
   "execution_count": 4,
   "metadata": {},
   "outputs": [
    {
     "data": {
      "text/plain": [
       "<All keys matched successfully>"
      ]
     },
     "execution_count": 4,
     "metadata": {},
     "output_type": "execute_result"
    }
   ],
   "source": [
    "model = YNet(1, 64, 1) # 1, 64, 1\n",
    "model.load_state_dict(ckpt)"
   ]
  },
  {
   "cell_type": "code",
   "execution_count": 6,
   "metadata": {},
   "outputs": [],
   "source": [
    "layer = model.down_conv1"
   ]
  }
 ],
 "metadata": {
  "kernelspec": {
   "display_name": "eks_env_min",
   "language": "python",
   "name": "python3"
  },
  "language_info": {
   "codemirror_mode": {
    "name": "ipython",
    "version": 3
   },
   "file_extension": ".py",
   "mimetype": "text/x-python",
   "name": "python",
   "nbconvert_exporter": "python",
   "pygments_lexer": "ipython3",
   "version": "3.10.14"
  }
 },
 "nbformat": 4,
 "nbformat_minor": 2
}
