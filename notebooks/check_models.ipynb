{
 "cells": [
  {
   "cell_type": "code",
   "execution_count": 3,
   "metadata": {},
   "outputs": [],
   "source": [
    "import torch\n",
    "import torch.nn as nn\n",
    "from src.models.frame_detector import Transformer, YNetEncoder, SimpleDenseNet\n",
    "from src.models.fuvai import YNet\n",
    "from src.datasets.acouslic_dataset import AcouslicDatasetFull\n",
    "from pathlib import Path\n",
    "from torch.nn.utils.rnn import pad_sequence\n",
    "import pandas as pd\n",
    "import matplotlib.pyplot as plt\n",
    "from monai.transforms import (\n",
    "    Compose,\n",
    "    ScaleIntensity,\n",
    "    RandGaussianNoise,\n",
    "    RandGaussianSmooth,\n",
    "    EnsureType\n",
    ")\n",
    "from torch.utils.data import DataLoader, default_collate\n",
    "\n",
    "this_path = Path().resolve()\n",
    "# data_path = this_path.parent / 'data/preprocessed'\n",
    "data_path = this_path.parent / 'data/acouslic-ai-train-set'\n",
    "assert data_path.exists()"
   ]
  },
  {
   "cell_type": "code",
   "execution_count": 4,
   "metadata": {},
   "outputs": [
    {
     "name": "stdout",
     "output_type": "stream",
     "text": [
      "224 57\n"
     ]
    }
   ],
   "source": [
    "# HP\n",
    "DEVICE = torch.device(\"cuda:0\" if torch.cuda.is_available() else \"cpu\")\n",
    "batch_size = 2\n",
    "hidden_dim = 768\n",
    "\n",
    "# dataset\n",
    "from sklearn.model_selection import KFold\n",
    "\n",
    "metadata_path = data_path / 'circumferences/fetal_abdominal_circumferences_per_sweep.csv'\n",
    "df = pd.read_csv(metadata_path)\n",
    "kf = KFold(n_splits=5, shuffle=True, random_state=0)\n",
    "for fold_n, (train_ids, val_ids) in enumerate(kf.split(df.subject_id.unique())):\n",
    "    # print(train_ids, val_ids)\n",
    "    print(len(train_ids), len(val_ids))\n",
    "    break\n",
    "\n",
    "preproc_transforms = Compose([\n",
    "                    ScaleIntensity(),\n",
    "                    EnsureType()\n",
    "                ])\n",
    "frame_transforms = Compose([\n",
    "            RandGaussianSmooth(prob=0.1),\n",
    "            RandGaussianNoise(prob=0.5),\n",
    "            ])\n",
    "train_dataset = AcouslicDatasetFull(metadata_path=metadata_path,\n",
    "                                    preprocess_transforms=preproc_transforms,\n",
    "                                    subject_ids=train_ids)\n",
    "\n",
    "def my_collate_fn(batch):\n",
    "    return batch\n",
    "train_dl = DataLoader(train_dataset,\n",
    "                      batch_size=batch_size,\n",
    "                      shuffle=False,\n",
    "                      num_workers=2,\n",
    "                      collate_fn=my_collate_fn)"
   ]
  },
  {
   "cell_type": "code",
   "execution_count": 5,
   "metadata": {},
   "outputs": [],
   "source": [
    "\n",
    "# # sample = next(iter(train_dl))\n",
    "# for idx, sample in enumerate(train_dl):\n",
    "#     print(type(sample), sample[0]['image'].shape)\n",
    "#     if idx == 10:\n",
    "#         break\n",
    "# # print(sample['image'].shape, sample['labels'].shape)\n",
    "# # image = sample['image']\n",
    "# # image = image.unsqueeze(2).to(DEVICE)\n",
    "# # print(image.shape)\n"
   ]
  },
  {
   "cell_type": "code",
   "execution_count": 6,
   "metadata": {},
   "outputs": [
    {
     "data": {
      "text/plain": [
       "Transformer(\n",
       "  (model): TransformerEncoder(\n",
       "    (layers): ModuleList(\n",
       "      (0-5): 6 x TransformerEncoderLayer(\n",
       "        (self_attn): MultiheadAttention(\n",
       "          (out_proj): NonDynamicallyQuantizableLinear(in_features=768, out_features=768, bias=True)\n",
       "        )\n",
       "        (linear1): Linear(in_features=768, out_features=2048, bias=True)\n",
       "        (dropout): Dropout(p=0.1, inplace=False)\n",
       "        (linear2): Linear(in_features=2048, out_features=768, bias=True)\n",
       "        (norm1): LayerNorm((768,), eps=1e-05, elementwise_affine=True)\n",
       "        (norm2): LayerNorm((768,), eps=1e-05, elementwise_affine=True)\n",
       "        (dropout1): Dropout(p=0.1, inplace=False)\n",
       "        (dropout2): Dropout(p=0.1, inplace=False)\n",
       "      )\n",
       "    )\n",
       "    (norm): LayerNorm((768,), eps=1e-05, elementwise_affine=True)\n",
       "  )\n",
       "  (pos_embed): PositionalEncoding(\n",
       "    (dropout): Dropout(p=0.1, inplace=False)\n",
       "  )\n",
       ")"
      ]
     },
     "execution_count": 6,
     "metadata": {},
     "output_type": "execute_result"
    }
   ],
   "source": [
    "# pretrained encoder\n",
    "ckpt_path = this_path.parent / 'data/fuvai_weights.pt'\n",
    "pretrained_model = YNet(1, 64, 1)\n",
    "ckpt = torch.load(ckpt_path)\n",
    "pretrained_model.load_state_dict(ckpt)\n",
    "# pretrained_model.to(DEVICE)\n",
    "\n",
    "encoder = YNetEncoder(pretrained_model=pretrained_model)\n",
    "encoder.eval()\n",
    "encoder.to(DEVICE)\n",
    "\n",
    "proj = nn.Linear(encoder.out_channels,\n",
    "                              hidden_dim)\n",
    "proj.to(DEVICE)\n",
    "\n",
    "# transformer\n",
    "transformer = Transformer(hidden_dim=hidden_dim)\n",
    "transformer.to(DEVICE)\n",
    "\n",
    "\n",
    "# input = torch.randn(1, 840, 1, 256, 256).to(DEVICE)\n",
    "\n"
   ]
  },
  {
   "cell_type": "code",
   "execution_count": 7,
   "metadata": {},
   "outputs": [
    {
     "name": "stdout",
     "output_type": "stream",
     "text": [
      "Batch index 0\n",
      "torch.Size([796, 512])\n",
      "torch.Size([796, 768])\n",
      "torch.Size([679, 512])\n",
      "torch.Size([679, 768])\n"
     ]
    }
   ],
   "source": [
    "for idx, samples in enumerate(train_dl):\n",
    "    print(f'Batch index {idx}')\n",
    "    encodings = []\n",
    "    labels = []\n",
    "    for sample in samples:\n",
    "        image = sample['image'].unsqueeze(1).unsqueeze(0).to(DEVICE)\n",
    "        with torch.no_grad():\n",
    "            output = encoder(image)\n",
    "            print(output.shape)\n",
    "        output = proj(output)\n",
    "        print(output.shape)\n",
    "        encodings.append(output)\n",
    "        labels.append(sample['labels'])\n",
    "    # encodings = pad_sequence(encodings, batch_first=True)\n",
    "    # print(encodings.shape)\n",
    "    # encodings, mask = transformer(encodings)\n",
    "    break"
   ]
  },
  {
   "cell_type": "code",
   "execution_count": 8,
   "metadata": {},
   "outputs": [],
   "source": [
    "encodings_trans, mask_trans = transformer(encodings)\n"
   ]
  },
  {
   "cell_type": "code",
   "execution_count": 9,
   "metadata": {},
   "outputs": [
    {
     "name": "stdout",
     "output_type": "stream",
     "text": [
      "torch.Size([1475, 768])\n"
     ]
    }
   ],
   "source": [
    "frames = encodings_trans[~mask_trans, :]\n",
    "print(frames.shape)"
   ]
  },
  {
   "cell_type": "code",
   "execution_count": 10,
   "metadata": {},
   "outputs": [],
   "source": [
    "labels = torch.cat(labels)"
   ]
  },
  {
   "cell_type": "code",
   "execution_count": 11,
   "metadata": {},
   "outputs": [],
   "source": [
    "classifier = SimpleDenseNet(input_size=hidden_dim,\n",
    "                                output_size=3)\n",
    "classifier.to(DEVICE)\n",
    "\n",
    "logits = classifier(frames)"
   ]
  },
  {
   "cell_type": "code",
   "execution_count": 12,
   "metadata": {},
   "outputs": [
    {
     "data": {
      "text/plain": [
       "torch.Size([1475, 3])"
      ]
     },
     "execution_count": 12,
     "metadata": {},
     "output_type": "execute_result"
    }
   ],
   "source": [
    "logits.shape"
   ]
  },
  {
   "cell_type": "code",
   "execution_count": 6,
   "metadata": {},
   "outputs": [
    {
     "name": "stdout",
     "output_type": "stream",
     "text": [
      "torch.Size([796, 796]) torch.Size([2, 796])\n"
     ]
    }
   ],
   "source": [
    "encodings_pad = pad_sequence(encodings, batch_first=True)\n",
    "\n",
    "def create_mask(src, pad_value=0):\n",
    "    src_seq_len = src.shape[1]\n",
    "    src_mask = torch.zeros((src_seq_len, src_seq_len)).type(torch.bool)\n",
    "    # src_padding_mask = (src == padding_value)\n",
    "    src_padding_mask = torch.any(src == pad_value, dim=(2))\n",
    "\n",
    "   \n",
    "    return src_mask, src_padding_mask\n",
    "\n",
    "src_mask, src_padding_mask = create_mask(encodings_pad)\n",
    "print(src_mask.shape, src_padding_mask.shape)\n",
    "# print(src_padding_mask.reshape(encodings.shape[0], encodings.shape[1]).shape)\n"
   ]
  },
  {
   "cell_type": "code",
   "execution_count": 8,
   "metadata": {},
   "outputs": [
    {
     "data": {
      "text/plain": [
       "metatensor([False, False, False, False, False, False, False, False, False, False,\n",
       "        False, False, False, False, False, False, False, False, False, False,\n",
       "        False, False, False, False, False, False, False, False, False, False,\n",
       "        False, False, False, False, False, False, False, False, False, False,\n",
       "        False, False, False, False, False, False, False, False, False, False,\n",
       "        False, False, False, False, False, False, False, False, False, False,\n",
       "        False, False, False, False, False, False, False, False, False, False,\n",
       "        False, False, False, False, False, False, False, False, False, False,\n",
       "        False, False, False, False, False, False, False, False, False, False,\n",
       "        False, False, False, False, False, False, False, False, False, False,\n",
       "        False, False, False, False, False, False, False, False, False, False,\n",
       "        False, False, False, False, False, False, False, False, False, False,\n",
       "        False, False, False, False, False, False, False, False, False, False,\n",
       "        False, False, False, False, False, False, False, False, False, False,\n",
       "        False, False, False, False, False, False, False, False, False, False,\n",
       "        False, False, False, False, False, False, False, False, False, False,\n",
       "        False, False, False, False, False, False, False, False, False, False,\n",
       "        False, False, False, False, False, False, False, False, False, False,\n",
       "        False, False, False, False, False, False, False, False, False, False,\n",
       "        False, False, False, False, False, False, False, False, False, False,\n",
       "        False, False, False, False, False, False, False, False, False, False,\n",
       "        False, False, False, False, False, False, False, False, False, False,\n",
       "        False, False, False, False, False, False, False, False, False, False,\n",
       "        False, False, False, False, False, False, False, False, False, False,\n",
       "        False, False, False, False, False, False, False, False, False, False,\n",
       "        False, False, False, False, False, False, False, False, False, False,\n",
       "        False, False, False, False, False, False, False, False, False, False,\n",
       "        False, False, False, False, False, False, False, False, False, False,\n",
       "        False, False, False, False, False, False, False, False, False, False,\n",
       "        False, False, False, False, False, False, False, False, False, False,\n",
       "        False, False, False, False, False, False, False, False, False, False,\n",
       "        False, False, False, False, False, False, False, False, False, False,\n",
       "        False, False, False, False, False, False, False, False, False, False,\n",
       "        False, False, False, False, False, False, False, False, False, False,\n",
       "        False, False, False, False, False, False, False, False, False, False,\n",
       "        False, False, False, False, False, False, False, False, False, False,\n",
       "        False, False, False, False, False, False, False, False, False, False,\n",
       "        False, False, False, False, False, False, False, False, False, False,\n",
       "        False, False, False, False, False, False, False, False, False, False,\n",
       "        False, False, False, False, False, False, False, False, False, False,\n",
       "        False, False, False, False, False, False, False, False, False, False,\n",
       "        False, False, False, False, False, False, False, False, False, False,\n",
       "        False, False, False, False, False, False, False, False, False, False,\n",
       "        False, False, False, False, False, False, False, False, False, False,\n",
       "        False, False, False, False, False, False, False, False, False, False,\n",
       "        False, False, False, False, False, False, False, False, False, False,\n",
       "        False, False, False, False, False, False, False, False, False, False,\n",
       "        False, False, False, False, False, False, False, False, False, False,\n",
       "        False, False, False, False, False, False, False, False, False, False,\n",
       "        False, False, False, False, False, False, False, False, False, False,\n",
       "        False, False, False, False, False, False, False, False, False, False,\n",
       "        False, False, False, False, False, False, False, False, False, False,\n",
       "        False, False, False, False, False, False, False, False, False, False,\n",
       "        False, False, False, False, False, False, False, False, False, False,\n",
       "        False, False, False, False, False, False, False, False, False, False,\n",
       "        False, False, False, False, False, False, False, False, False, False,\n",
       "        False, False, False, False, False, False, False, False, False, False,\n",
       "        False, False, False, False, False, False, False, False, False, False,\n",
       "        False, False, False, False, False, False, False, False, False, False,\n",
       "        False, False, False, False, False, False, False, False, False, False,\n",
       "        False, False, False, False, False, False, False, False, False, False,\n",
       "        False, False, False, False, False, False, False, False, False, False,\n",
       "        False, False, False, False, False, False, False, False, False, False,\n",
       "        False, False, False, False, False, False, False, False, False, False,\n",
       "        False, False, False, False, False, False, False, False, False, False,\n",
       "        False, False, False, False, False, False, False, False, False, False,\n",
       "        False, False, False, False, False, False, False, False, False, False,\n",
       "        False, False, False, False, False, False, False, False, False,  True,\n",
       "         True,  True,  True,  True,  True,  True,  True,  True,  True,  True,\n",
       "         True,  True,  True,  True,  True,  True,  True,  True,  True,  True,\n",
       "         True,  True,  True,  True,  True,  True,  True,  True,  True,  True,\n",
       "         True,  True,  True,  True,  True,  True,  True,  True,  True,  True,\n",
       "         True,  True,  True,  True,  True,  True,  True,  True,  True,  True,\n",
       "         True,  True,  True,  True,  True,  True,  True,  True,  True,  True,\n",
       "         True,  True,  True,  True,  True,  True,  True,  True,  True,  True,\n",
       "         True,  True,  True,  True,  True,  True,  True,  True,  True,  True,\n",
       "         True,  True,  True,  True,  True,  True,  True,  True,  True,  True,\n",
       "         True,  True,  True,  True,  True,  True,  True,  True,  True,  True,\n",
       "         True,  True,  True,  True,  True,  True,  True,  True,  True,  True,\n",
       "         True,  True,  True,  True,  True,  True], device='cuda:0')"
      ]
     },
     "execution_count": 8,
     "metadata": {},
     "output_type": "execute_result"
    }
   ],
   "source": [
    "src_padding_mask[1]"
   ]
  },
  {
   "cell_type": "code",
   "execution_count": 22,
   "metadata": {},
   "outputs": [
    {
     "data": {
      "text/plain": [
       "torch.Size([1475])"
      ]
     },
     "execution_count": 22,
     "metadata": {},
     "output_type": "execute_result"
    }
   ],
   "source": [
    "labels"
   ]
  }
 ],
 "metadata": {
  "kernelspec": {
   "display_name": "acouslic",
   "language": "python",
   "name": "python3"
  },
  "language_info": {
   "codemirror_mode": {
    "name": "ipython",
    "version": 3
   },
   "file_extension": ".py",
   "mimetype": "text/x-python",
   "name": "python",
   "nbconvert_exporter": "python",
   "pygments_lexer": "ipython3",
   "version": "3.10.14"
  }
 },
 "nbformat": 4,
 "nbformat_minor": 2
}
