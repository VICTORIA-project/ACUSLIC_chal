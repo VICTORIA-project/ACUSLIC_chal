{
 "cells": [
  {
   "cell_type": "code",
   "execution_count": 1,
   "metadata": {},
   "outputs": [],
   "source": [
    "import torch\n",
    "import torch.nn as nn\n",
    "from src.models.frame_detector import Transformer, YNetEncoder\n",
    "from src.models.fuvai import YNet\n",
    "from pathlib import Path\n",
    "from torch.nn.utils.rnn import pad_sequence\n",
    "\n",
    "\n",
    "this_path = Path().resolve()\n",
    "data_path = this_path.parent / 'data/preprocessed'\n",
    "assert data_path.exists()"
   ]
  },
  {
   "cell_type": "code",
   "execution_count": 2,
   "metadata": {},
   "outputs": [],
   "source": [
    "DEVICE = torch.device(\"cuda:0\" if torch.cuda.is_available() else \"cpu\")\n",
    "hidden_dim = 768\n",
    "# pretrained encoder\n",
    "ckpt_path = data_path.parent / 'fuvai_weights.pt'\n",
    "pretrained_model = YNet(1, 64, 1)\n",
    "ckpt = torch.load(ckpt_path)\n",
    "pretrained_model.load_state_dict(ckpt)\n",
    "# pretrained_model.to(DEVICE)\n",
    "\n",
    "encoder = YNetEncoder(pretrained_model=pretrained_model)\n",
    "encoder.eval()\n",
    "encoder.to(DEVICE)\n",
    "\n",
    "proj = nn.Linear(encoder.out_channels,\n",
    "                              hidden_dim)\n",
    "\n",
    "# transformer\n",
    "transformer = Transformer(hidden_dim=hidden_dim)\n",
    "transformer.to(DEVICE)\n",
    "\n",
    "input = torch.randn(1, 840, 1, 256, 256).to(DEVICE)\n",
    "\n"
   ]
  },
  {
   "cell_type": "code",
   "execution_count": 11,
   "metadata": {},
   "outputs": [
    {
     "data": {
      "text/plain": [
       "torch.Size([1, 1, 256, 256])"
      ]
     },
     "execution_count": 11,
     "metadata": {},
     "output_type": "execute_result"
    }
   ],
   "source": [
    "torch.unbind(input, dim=1)[0].shape"
   ]
  },
  {
   "cell_type": "code",
   "execution_count": 12,
   "metadata": {},
   "outputs": [
    {
     "name": "stdout",
     "output_type": "stream",
     "text": [
      "torch.Size([840, 512])\n"
     ]
    }
   ],
   "source": [
    "with torch.no_grad():\n",
    "    output = encoder(input)\n",
    "    print(output.shape)"
   ]
  },
  {
   "cell_type": "code",
   "execution_count": 10,
   "metadata": {},
   "outputs": [
    {
     "name": "stdout",
     "output_type": "stream",
     "text": [
      "5\n",
      "torch.Size([5, 6, 4])\n"
     ]
    }
   ],
   "source": [
    "input = [torch.ones(i, 4) for i in range(2, 7)]\n",
    "print(len(input))\n",
    "input = pad_sequence(input, batch_first=True, padding_value=0)\n",
    "print(input.shape)"
   ]
  },
  {
   "cell_type": "code",
   "execution_count": 11,
   "metadata": {},
   "outputs": [
    {
     "data": {
      "text/plain": [
       "tensor([[[1., 1., 1., 1.],\n",
       "         [1., 1., 1., 1.],\n",
       "         [0., 0., 0., 0.],\n",
       "         [0., 0., 0., 0.],\n",
       "         [0., 0., 0., 0.],\n",
       "         [0., 0., 0., 0.]],\n",
       "\n",
       "        [[1., 1., 1., 1.],\n",
       "         [1., 1., 1., 1.],\n",
       "         [1., 1., 1., 1.],\n",
       "         [0., 0., 0., 0.],\n",
       "         [0., 0., 0., 0.],\n",
       "         [0., 0., 0., 0.]],\n",
       "\n",
       "        [[1., 1., 1., 1.],\n",
       "         [1., 1., 1., 1.],\n",
       "         [1., 1., 1., 1.],\n",
       "         [1., 1., 1., 1.],\n",
       "         [0., 0., 0., 0.],\n",
       "         [0., 0., 0., 0.]],\n",
       "\n",
       "        [[1., 1., 1., 1.],\n",
       "         [1., 1., 1., 1.],\n",
       "         [1., 1., 1., 1.],\n",
       "         [1., 1., 1., 1.],\n",
       "         [1., 1., 1., 1.],\n",
       "         [0., 0., 0., 0.]],\n",
       "\n",
       "        [[1., 1., 1., 1.],\n",
       "         [1., 1., 1., 1.],\n",
       "         [1., 1., 1., 1.],\n",
       "         [1., 1., 1., 1.],\n",
       "         [1., 1., 1., 1.],\n",
       "         [1., 1., 1., 1.]]])"
      ]
     },
     "execution_count": 11,
     "metadata": {},
     "output_type": "execute_result"
    }
   ],
   "source": [
    "input"
   ]
  },
  {
   "cell_type": "code",
   "execution_count": 12,
   "metadata": {},
   "outputs": [
    {
     "name": "stdout",
     "output_type": "stream",
     "text": [
      "torch.Size([6, 6]) torch.Size([5, 6, 4])\n"
     ]
    }
   ],
   "source": [
    "def create_mask(src, padding_value=0):\n",
    "    src_seq_len = src.shape[1]\n",
    "    src_mask = torch.zeros((src_seq_len, src_seq_len)).type(torch.bool)\n",
    "    src_padding_mask = (src == padding_value)\n",
    "   \n",
    "    return src_mask, src_padding_mask\n",
    "\n",
    "src_mask, src_padding_mask = create_mask(input)\n",
    "print(src_mask.shape, src_padding_mask.shape)"
   ]
  },
  {
   "cell_type": "code",
   "execution_count": null,
   "metadata": {},
   "outputs": [],
   "source": []
  }
 ],
 "metadata": {
  "kernelspec": {
   "display_name": "acouslic",
   "language": "python",
   "name": "python3"
  },
  "language_info": {
   "codemirror_mode": {
    "name": "ipython",
    "version": 3
   },
   "file_extension": ".py",
   "mimetype": "text/x-python",
   "name": "python",
   "nbconvert_exporter": "python",
   "pygments_lexer": "ipython3",
   "version": "3.10.14"
  }
 },
 "nbformat": 4,
 "nbformat_minor": 2
}
