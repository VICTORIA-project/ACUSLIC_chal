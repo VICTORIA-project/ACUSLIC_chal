{
 "cells": [
  {
   "cell_type": "code",
   "execution_count": 1,
   "metadata": {},
   "outputs": [],
   "source": [
    "#Add repo path to the system path\n",
    "from pathlib import Path\n",
    "import os, sys\n",
    "repo_path= Path.cwd().resolve()\n",
    "while '.gitignore' not in os.listdir(repo_path): # while not in the root of the repo\n",
    "    repo_path = repo_path.parent #go up one level\n",
    "sys.path.insert(0,str(repo_path)) if str(repo_path) not in sys.path else None\n",
    "\n",
    "import os\n",
    "os.environ[\"CUDA_DEVICE_ORDER\"]=\"PCI_BUS_ID\"\n",
    "os.environ[\"CUDA_VISIBLE_DEVICES\"]=\"0\""
   ]
  },
  {
   "cell_type": "code",
   "execution_count": 3,
   "metadata": {},
   "outputs": [],
   "source": [
    "from torchvision.transforms import (\n",
    "    Compose,\n",
    "    Resize,\n",
    "    InterpolationMode,\n",
    ")"
   ]
  },
  {
   "cell_type": "markdown",
   "metadata": {},
   "source": [
    "# Preprocessing for SAMed"
   ]
  },
  {
   "cell_type": "markdown",
   "metadata": {},
   "source": [
    "We could consider this problem in a similar way as we did with the ABUS challenge and train a model to detect abdominal planes (ellipses) inestead of breast lesions.\n",
    "- As a vanilla version, train the model only with plane frames."
   ]
  },
  {
   "cell_type": "markdown",
   "metadata": {},
   "source": [
    "## Only frames with planes"
   ]
  },
  {
   "cell_type": "markdown",
   "metadata": {},
   "source": [
    "We will save the images as square frames using the largest side (744) as maximum size.<br>\n",
    "Then, we will resize the images to 512x512 and save them in a new folder."
   ]
  },
  {
   "cell_type": "code",
   "execution_count": 2,
   "metadata": {},
   "outputs": [],
   "source": [
    "# Expansion HP\n",
    "x_expansion = 744\n",
    "y_expansion = 744\n",
    "x_resizing = 256\n",
    "y_resizing = 256\n",
    "file_format = 'mha'\n",
    "new_folder_name = f'full-slice_{x_resizing}x{y_resizing}_with-plane'\n",
    "data_directory = repo_path / 'data/original'"
   ]
  },
  {
   "cell_type": "code",
   "execution_count": 4,
   "metadata": {},
   "outputs": [],
   "source": [
    "# transforms\n",
    "preprocess_im = Compose(\n",
    "        [Resize((x_resizing, y_resizing), interpolation= InterpolationMode.BILINEAR),]\n",
    ")\n",
    "preprocess_label = Compose(\n",
    "        [Resize((x_resizing, y_resizing), interpolation= InterpolationMode.NEAREST),]\n",
    ")\n",
    "low_res_trans = Compose(\n",
    "        [Resize((x_resizing//4, y_resizing//4), interpolation= InterpolationMode.NEAREST),]\n",
    ")"
   ]
  },
  {
   "cell_type": "code",
   "execution_count": 5,
   "metadata": {},
   "outputs": [],
   "source": [
    "# new images and labels\n",
    "save_dir = repo_path / 'data/preprocessed' / new_folder_name\n",
    "im_dir = save_dir / f'images'\n",
    "label_dir = save_dir / f'masks'\n",
    "save_dir.mkdir(exist_ok=True)\n",
    "im_dir.mkdir(exist_ok=True)\n",
    "label_dir.mkdir(exist_ok=True)"
   ]
  }
 ],
 "metadata": {
  "kernelspec": {
   "display_name": "acuslic",
   "language": "python",
   "name": "python3"
  },
  "language_info": {
   "codemirror_mode": {
    "name": "ipython",
    "version": 3
   },
   "file_extension": ".py",
   "mimetype": "text/x-python",
   "name": "python",
   "nbconvert_exporter": "python",
   "pygments_lexer": "ipython3",
   "version": "3.11.9"
  }
 },
 "nbformat": 4,
 "nbformat_minor": 2
}
